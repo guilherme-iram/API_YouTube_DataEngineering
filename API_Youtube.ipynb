{
 "cells": [
  {
   "cell_type": "markdown",
   "id": "5037ebea-0852-4632-a402-3e012a335013",
   "metadata": {},
   "source": [
    "# Data Engineering Project - YouTube API\n",
    "\n",
    "### objective\n",
    "    Create a complete ETL from extracting unstructured data using the youtube API to analyzing the data and automatically storing it in a database."
   ]
  },
  {
   "cell_type": "markdown",
   "id": "ae7b6f1e-6b03-46b0-b2a6-fe26b63b21e9",
   "metadata": {},
   "source": [
    "## 1 - Importing the libraries"
   ]
  },
  {
   "cell_type": "code",
   "execution_count": null,
   "id": "425c63f1-abb2-4a10-98c7-46819be68507",
   "metadata": {},
   "outputs": [],
   "source": [
    "import pandas as pd\n",
    "import requests"
   ]
  },
  {
   "cell_type": "code",
   "execution_count": null,
   "id": "666aa400-455a-4304-91d9-e245f2afa186",
   "metadata": {},
   "outputs": [],
   "source": [
    "import warnings\n",
    "# warnings.filterwarnings('ignore')"
   ]
  },
  {
   "cell_type": "markdown",
   "id": "547b969d-b494-4779-85f0-0f971a2b84ea",
   "metadata": {},
   "source": [
    "## 2 - Requirements\n",
    "\n",
    "- Python 2.7 or Python 3.5+\n",
    "\n",
    "- The pip package management tool\n",
    "\n",
    "- Youtube API\n",
    "    - https://developers.google.com/youtube/v3\n",
    "- More details \n",
    "    - https://developers.google.com/youtube/v3/quickstart/python\n",
    "    \n",
    "- A API KEY and a Channel Id "
   ]
  },
  {
   "cell_type": "code",
   "execution_count": null,
   "id": "3bcf6772-7038-4e0c-9e9f-b13be76e0ea2",
   "metadata": {
    "tags": []
   },
   "outputs": [],
   "source": [
    "# pip install --upgrade google-api-python-client"
   ]
  },
  {
   "cell_type": "code",
   "execution_count": null,
   "id": "f3c0c73e-2671-4bc5-b645-73e2f0f32ca2",
   "metadata": {},
   "outputs": [],
   "source": [
    "API_KEY = \"\"\n",
    "\n",
    "with open('API_key.txt') as api:\n",
    "    API_KEY = api.readlines()[0]"
   ]
  },
  {
   "cell_type": "code",
   "execution_count": null,
   "id": "34847841-3e1c-44a0-8344-15ea39450afd",
   "metadata": {},
   "outputs": [],
   "source": [
    "CHANNEL_IDS = {\n",
    "    \"Funky Black Cat\":\"UCY8iijN1AkyDCh1Z9akcqUA\",\n",
    "    \"BRKsEDU\" : \"UCWKtHaeXVzUscYGcm0hEunw\",\n",
    "    \"Felipe Ramos\": \"UCI95an3-hKt0XnzART-VyPA\",\n",
    "    \"Colonia Contra Ataca\": \"UCYvdGhl2G-M5ojWW1UzODJg\"\n",
    "    }"
   ]
  },
  {
   "cell_type": "markdown",
   "id": "55d20a44-eb4b-4305-810b-b2198c35bd8e",
   "metadata": {},
   "source": [
    "## 3 - Using youtube API to create a dataframe"
   ]
  },
  {
   "cell_type": "code",
   "execution_count": null,
   "id": "412abbca-35c1-4d24-8ec8-437033508319",
   "metadata": {},
   "outputs": [],
   "source": [
    "from youtube_func import get_youtube_videos"
   ]
  },
  {
   "cell_type": "code",
   "execution_count": null,
   "id": "14055282",
   "metadata": {},
   "outputs": [],
   "source": [
    "df_complet = pd.DataFrame(columns=[\"video_id\", \"video_title\", \"upload_date\", \"view_count\", \"like_count\", \"comment_count\", \"duration_count\", \"video_definition\", \"channel_name\"])\n",
    "\n",
    "for channel_name, channel_id in CHANNEL_IDS.items():\n",
    "\n",
    "    df = pd.DataFrame(columns=[\"video_id\", \"video_title\", \"upload_date\", \"view_count\", \"like_count\", \"comment_count\", \"duration_count\", \"video_definition\"])\n",
    "    get_youtube_videos(df, API_KEY, channel_id, num_videos=3)\n",
    "    df[\"channel_name\"] = channel_name\n",
    "    df_complet = pd.concat([df_completo, df], ignore_index=True)\n",
    "\n",
    "df_complet"
   ]
  },
  {
   "cell_type": "code",
   "execution_count": null,
   "id": "b488b755",
   "metadata": {},
   "outputs": [],
   "source": [
    "df_complet.to_csv(\"./data/gamers_youtube_videos.csv\", index=False)"
   ]
  }
 ],
 "metadata": {
  "kernelspec": {
   "display_name": "Python 3 (ipykernel)",
   "language": "python",
   "name": "python3"
  },
  "language_info": {
   "codemirror_mode": {
    "name": "ipython",
    "version": 3
   },
   "file_extension": ".py",
   "mimetype": "text/x-python",
   "name": "python",
   "nbconvert_exporter": "python",
   "pygments_lexer": "ipython3",
   "version": "3.9.13"
  },
  "vscode": {
   "interpreter": {
    "hash": "7ae87b3b9587c61cb937d4cce70eaca25515738f143b6cc31813c8cd50a305ce"
   }
  },
  "widgets": {
   "application/vnd.jupyter.widget-state+json": {
    "state": {},
    "version_major": 2,
    "version_minor": 0
   }
  }
 },
 "nbformat": 4,
 "nbformat_minor": 5
}
