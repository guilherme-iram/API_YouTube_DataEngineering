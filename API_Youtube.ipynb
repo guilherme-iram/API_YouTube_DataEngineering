{
 "cells": [
  {
   "cell_type": "markdown",
   "id": "5037ebea-0852-4632-a402-3e012a335013",
   "metadata": {},
   "source": [
    "# Data Engineering Project - YouTube API\n",
    "\n",
    "### objective\n",
    "    Create a complete ETL from extracting unstructured data using the youtube API to analyzing the data and automatically storing it in a database."
   ]
  },
  {
   "cell_type": "markdown",
   "id": "ae7b6f1e-6b03-46b0-b2a6-fe26b63b21e9",
   "metadata": {},
   "source": [
    "## 1 - Importing the libraries"
   ]
  },
  {
   "cell_type": "code",
   "execution_count": 1,
   "id": "425c63f1-abb2-4a10-98c7-46819be68507",
   "metadata": {},
   "outputs": [],
   "source": [
    "import pandas as pd\n",
    "import requests"
   ]
  },
  {
   "cell_type": "code",
   "execution_count": 2,
   "id": "666aa400-455a-4304-91d9-e245f2afa186",
   "metadata": {},
   "outputs": [],
   "source": [
    "import warnings\n",
    "warnings.filterwarnings('ignore')"
   ]
  },
  {
   "cell_type": "markdown",
   "id": "547b969d-b494-4779-85f0-0f971a2b84ea",
   "metadata": {},
   "source": [
    "## 2 - Requirements\n",
    "\n",
    "- Python 2.7 or Python 3.5+\n",
    "\n",
    "- The pip package management tool\n",
    "\n",
    "- Youtube API\n",
    "    - https://developers.google.com/youtube/v3\n",
    "- More details \n",
    "    - https://developers.google.com/youtube/v3/quickstart/python\n",
    "    \n",
    "- A API KEY and a Channel Id "
   ]
  },
  {
   "cell_type": "code",
   "execution_count": 3,
   "id": "3bcf6772-7038-4e0c-9e9f-b13be76e0ea2",
   "metadata": {
    "tags": []
   },
   "outputs": [],
   "source": [
    "# pip install --upgrade google-api-python-client"
   ]
  },
  {
   "cell_type": "code",
   "execution_count": 4,
   "id": "f3c0c73e-2671-4bc5-b645-73e2f0f32ca2",
   "metadata": {},
   "outputs": [],
   "source": [
    "API_KEY = \"\"\n",
    "\n",
    "with open('API_key.txt') as api:\n",
    "    API_KEY = api.readlines()[0]"
   ]
  },
  {
   "cell_type": "code",
   "execution_count": 5,
   "id": "34847841-3e1c-44a0-8344-15ea39450afd",
   "metadata": {},
   "outputs": [],
   "source": [
    "# 3Blue1Brown id channel\n",
    "CHANNEL_ID = \"UCYO_jab_esuFRV4b17AJtAw\""
   ]
  },
  {
   "cell_type": "markdown",
   "id": "55d20a44-eb4b-4305-810b-b2198c35bd8e",
   "metadata": {},
   "source": [
    "## 3 - Using youtube API to create a dataframe"
   ]
  },
  {
   "cell_type": "code",
   "execution_count": 6,
   "id": "412abbca-35c1-4d24-8ec8-437033508319",
   "metadata": {},
   "outputs": [],
   "source": [
    "from youtube_func import get_youtube_videos"
   ]
  },
  {
   "cell_type": "code",
   "execution_count": 7,
   "id": "dd080a55-78e2-4a02-aee1-09d5a384e9dd",
   "metadata": {},
   "outputs": [
    {
     "ename": "NameError",
     "evalue": "name 'duration_video' is not defined",
     "output_type": "error",
     "traceback": [
      "\u001b[1;31m---------------------------------------------------------------------------\u001b[0m",
      "\u001b[1;31mNameError\u001b[0m                                 Traceback (most recent call last)",
      "Input \u001b[1;32mIn [7]\u001b[0m, in \u001b[0;36m<cell line: 2>\u001b[1;34m()\u001b[0m\n\u001b[0;32m      1\u001b[0m df_youtube \u001b[38;5;241m=\u001b[39m pd\u001b[38;5;241m.\u001b[39mDataFrame(columns\u001b[38;5;241m=\u001b[39m[\u001b[38;5;124m\"\u001b[39m\u001b[38;5;124mvideo_id\u001b[39m\u001b[38;5;124m\"\u001b[39m, \u001b[38;5;124m\"\u001b[39m\u001b[38;5;124mvideo_title\u001b[39m\u001b[38;5;124m\"\u001b[39m, \u001b[38;5;124m\"\u001b[39m\u001b[38;5;124mupload_date\u001b[39m\u001b[38;5;124m\"\u001b[39m, \u001b[38;5;124m\"\u001b[39m\u001b[38;5;124mview_count\u001b[39m\u001b[38;5;124m\"\u001b[39m, \u001b[38;5;124m\"\u001b[39m\u001b[38;5;124mlike_count\u001b[39m\u001b[38;5;124m\"\u001b[39m, \u001b[38;5;124m\"\u001b[39m\u001b[38;5;124mcomment_count\u001b[39m\u001b[38;5;124m\"\u001b[39m, \u001b[38;5;124m\"\u001b[39m\u001b[38;5;124mduration\u001b[39m\u001b[38;5;124m\"\u001b[39m, \u001b[38;5;124m\"\u001b[39m\u001b[38;5;124mdefinition\u001b[39m\u001b[38;5;124m\"\u001b[39m]) \n\u001b[1;32m----> 2\u001b[0m df_youtube \u001b[38;5;241m=\u001b[39m \u001b[43mget_youtube_videos\u001b[49m\u001b[43m(\u001b[49m\u001b[43mdf_youtube\u001b[49m\u001b[43m,\u001b[49m\u001b[43m \u001b[49m\u001b[43mAPI_KEY\u001b[49m\u001b[43m,\u001b[49m\u001b[43m \u001b[49m\u001b[43mCHANNEL_ID\u001b[49m\u001b[43m)\u001b[49m\n\u001b[0;32m      3\u001b[0m df_youtube\n",
      "File \u001b[1;32mC:\\pc-workspace\\project\\api\\youtube_func.py:40\u001b[0m, in \u001b[0;36mget_youtube_videos\u001b[1;34m(df, API_KEY, CHANNEL_ID)\u001b[0m\n\u001b[0;32m     38\u001b[0m upload_date \u001b[38;5;241m=\u001b[39m video[\u001b[38;5;124m'\u001b[39m\u001b[38;5;124msnippet\u001b[39m\u001b[38;5;124m'\u001b[39m][\u001b[38;5;124m'\u001b[39m\u001b[38;5;124mpublishedAt\u001b[39m\u001b[38;5;124m'\u001b[39m]\n\u001b[0;32m     39\u001b[0m upload_date \u001b[38;5;241m=\u001b[39m \u001b[38;5;28mstr\u001b[39m(upload_date)\u001b[38;5;241m.\u001b[39msplit(\u001b[38;5;124m\"\u001b[39m\u001b[38;5;124mT\u001b[39m\u001b[38;5;124m\"\u001b[39m)[\u001b[38;5;241m0\u001b[39m]\n\u001b[1;32m---> 40\u001b[0m view_count, like_count, comment_count, duration_count, video_definition \u001b[38;5;241m=\u001b[39m \u001b[43mget_video_details\u001b[49m\u001b[43m(\u001b[49m\u001b[43mvideo_id\u001b[49m\u001b[43m,\u001b[49m\u001b[43m \u001b[49m\u001b[43mAPI_KEY\u001b[49m\u001b[43m)\u001b[49m\n\u001b[0;32m     42\u001b[0m \u001b[38;5;66;03m# making a row to the youtube DataFrame\u001b[39;00m\n\u001b[0;32m     43\u001b[0m df\u001b[38;5;241m.\u001b[39mloc[i] \u001b[38;5;241m=\u001b[39m [\n\u001b[0;32m     44\u001b[0m     video_id,\n\u001b[0;32m     45\u001b[0m     video_title,\n\u001b[1;32m   (...)\u001b[0m\n\u001b[0;32m     51\u001b[0m     video_definition\n\u001b[0;32m     52\u001b[0m ]\n",
      "File \u001b[1;32mC:\\pc-workspace\\project\\api\\youtube_func.py:18\u001b[0m, in \u001b[0;36mget_video_details\u001b[1;34m(video_id, API_KEY)\u001b[0m\n\u001b[0;32m     15\u001b[0m duration_count \u001b[38;5;241m=\u001b[39m response_video_stats[\u001b[38;5;124m'\u001b[39m\u001b[38;5;124mitems\u001b[39m\u001b[38;5;124m'\u001b[39m][\u001b[38;5;241m0\u001b[39m][\u001b[38;5;124m'\u001b[39m\u001b[38;5;124mcontentDetails\u001b[39m\u001b[38;5;124m'\u001b[39m][\u001b[38;5;124m'\u001b[39m\u001b[38;5;124mduration\u001b[39m\u001b[38;5;124m'\u001b[39m] \n\u001b[0;32m     16\u001b[0m video_definition \u001b[38;5;241m=\u001b[39m response_video_stats[\u001b[38;5;124m'\u001b[39m\u001b[38;5;124mitems\u001b[39m\u001b[38;5;124m'\u001b[39m][\u001b[38;5;241m0\u001b[39m][\u001b[38;5;124m'\u001b[39m\u001b[38;5;124mcontentDetails\u001b[39m\u001b[38;5;124m'\u001b[39m][\u001b[38;5;124m'\u001b[39m\u001b[38;5;124mdefinition\u001b[39m\u001b[38;5;124m'\u001b[39m]\n\u001b[1;32m---> 18\u001b[0m \u001b[38;5;28;01mreturn\u001b[39;00m view_count, like_count, comment_count, \u001b[43mduration_video\u001b[49m, video_definition\n",
      "\u001b[1;31mNameError\u001b[0m: name 'duration_video' is not defined"
     ]
    }
   ],
   "source": [
    "df_youtube = pd.DataFrame(columns=[\"video_id\", \"video_title\", \"upload_date\", \"view_count\", \"like_count\", \"comment_count\", \"duration\", \"definition\"]) \n",
    "df_youtube = get_youtube_videos(df_youtube, API_KEY, CHANNEL_ID)\n",
    "df_youtube"
   ]
  }
 ],
 "metadata": {
  "kernelspec": {
   "display_name": "Python 3 (ipykernel)",
   "language": "python",
   "name": "python3"
  },
  "language_info": {
   "codemirror_mode": {
    "name": "ipython",
    "version": 3
   },
   "file_extension": ".py",
   "mimetype": "text/x-python",
   "name": "python",
   "nbconvert_exporter": "python",
   "pygments_lexer": "ipython3",
   "version": "3.9.12"
  },
  "widgets": {
   "application/vnd.jupyter.widget-state+json": {
    "state": {},
    "version_major": 2,
    "version_minor": 0
   }
  }
 },
 "nbformat": 4,
 "nbformat_minor": 5
}
